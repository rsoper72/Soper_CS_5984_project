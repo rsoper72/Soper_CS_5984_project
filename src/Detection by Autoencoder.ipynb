{
 "cells": [
  {
   "cell_type": "markdown",
   "metadata": {},
   "source": [
    "# Explore chatbot vs. human dialog detection via unsupervised learning approach"
   ]
  },
  {
   "cell_type": "code",
   "execution_count": 2,
   "metadata": {},
   "outputs": [
    {
     "name": "stderr",
     "output_type": "stream",
     "text": [
      "Using TensorFlow backend.\n"
     ]
    }
   ],
   "source": [
    "from keras.models import Model, load_model\n",
    "from keras.layers import Input, Dense\n",
    "import pickle\n",
    "import numpy as np\n",
    "from sklearn import metrics"
   ]
  },
  {
   "cell_type": "code",
   "execution_count": 21,
   "metadata": {
    "collapsed": true
   },
   "outputs": [],
   "source": [
    "file_name = 'data/x_r_full_tur4_shuf.pkl'\n",
    "file_obj = open(file_name,'rb') \n",
    "x_vec = pickle.load(file_obj)   \n",
    "file_obj.close()\n",
    "file_name = 'data/y_in_tur4_shuf.pkl'\n",
    "file_obj = open(file_name,'rb') \n",
    "y_in_vec = pickle.load(file_obj)   \n",
    "file_obj.close()\n",
    "file_name = 'data/y_tar_tur4_shuf.pkl'\n",
    "file_obj = open(file_name,'rb') \n",
    "y_tar_vec = pickle.load(file_obj)   \n",
    "file_obj.close()"
   ]
  },
  {
   "cell_type": "code",
   "execution_count": 22,
   "metadata": {
    "collapsed": true
   },
   "outputs": [],
   "source": [
    "# input vector for autoencoder is concatenation of input and output sides of dialog including human and bot responses \n",
    "auto_x = []\n",
    "for i in range(len(x_vec)):\n",
    "    row1 = x_vec[i].reshape(3000,).tolist()\n",
    "    row2 = y_in_vec[i].reshape(3050,).tolist()\n",
    "    row = row1 + row2\n",
    "    auto_x.append(row)\n",
    "auto_x = np.asarray(auto_x)"
   ]
  },
  {
   "cell_type": "code",
   "execution_count": 23,
   "metadata": {},
   "outputs": [
    {
     "data": {
      "text/plain": [
       "(40000, 6050)"
      ]
     },
     "execution_count": 23,
     "metadata": {},
     "output_type": "execute_result"
    }
   ],
   "source": [
    "# input vector: 50 element GLoVe encoded words, 60 word max initiating sequence, 61 word max response sequence (with stop word)\n",
    "auto_x.shape"
   ]
  },
  {
   "cell_type": "code",
   "execution_count": 24,
   "metadata": {
    "collapsed": true
   },
   "outputs": [],
   "source": [
    "# Classification: 0 = 'human', 1 = 'chatbot'\n",
    "x_class = y_tar_vec[:,0]"
   ]
  },
  {
   "cell_type": "code",
   "execution_count": 25,
   "metadata": {
    "collapsed": true
   },
   "outputs": [],
   "source": [
    "file_name = 'data/auto_x_tr4.pkl'\n",
    "file_obj = open(file_name,'wb') \n",
    "pickle.dump(auto_x, file_obj)   \n",
    "file_obj.close()\n",
    "file_name = 'data/x_class_auto_tr4.pkl'\n",
    "file_obj = open(file_name,'wb') \n",
    "pickle.dump(x_class, file_obj)   \n",
    "file_obj.close()"
   ]
  },
  {
   "cell_type": "code",
   "execution_count": 3,
   "metadata": {
    "collapsed": true
   },
   "outputs": [],
   "source": [
    "file_name = 'data/auto_x_tr4.pkl'\n",
    "file_obj = open(file_name,'rb') \n",
    "auto_x = pickle.load(file_obj)   \n",
    "file_obj.close()\n",
    "file_name = 'data/x_class_auto_tr4.pkl'\n",
    "file_obj = open(file_name,'rb') \n",
    "x_class = pickle.load(file_obj)   \n",
    "file_obj.close()"
   ]
  },
  {
   "cell_type": "code",
   "execution_count": 26,
   "metadata": {
    "collapsed": true
   },
   "outputs": [],
   "source": [
    "del x_vec, y_in_vec, y_tar_vec"
   ]
  },
  {
   "cell_type": "code",
   "execution_count": 6,
   "metadata": {
    "collapsed": true
   },
   "outputs": [],
   "source": [
    "batch_size = 64\n",
    "epochs = 8  # based on validation loss, early stopping at 8 epochs prevents overfit"
   ]
  },
  {
   "cell_type": "code",
   "execution_count": 7,
   "metadata": {
    "collapsed": true
   },
   "outputs": [],
   "source": [
    "# Autoencoder model\n",
    "input_data = Input(shape=(6050,))\n",
    "encoded = Dense(512, activation='relu')(input_data)\n",
    "encoded = Dense(32, activation='relu')(encoded)\n",
    "\n",
    "decoded = Dense(512, activation='relu')(encoded)\n",
    "decoded = Dense(6050, activation='sigmoid')(decoded)"
   ]
  },
  {
   "cell_type": "code",
   "execution_count": 8,
   "metadata": {},
   "outputs": [
    {
     "name": "stdout",
     "output_type": "stream",
     "text": [
      "Train on 32000 samples, validate on 8000 samples\n",
      "Epoch 1/8\n",
      "32000/32000 [==============================] - 110s - loss: 0.0809 - acc: 0.0610 - val_loss: 0.0745 - val_acc: 0.0681\n",
      "Epoch 2/8\n",
      "32000/32000 [==============================] - 112s - loss: 0.0726 - acc: 0.0772 - val_loss: 0.0724 - val_acc: 0.0776\n",
      "Epoch 3/8\n",
      "32000/32000 [==============================] - 108s - loss: 0.0716 - acc: 0.0812 - val_loss: 0.0720 - val_acc: 0.0809\n",
      "Epoch 4/8\n",
      "32000/32000 [==============================] - 109s - loss: 0.0711 - acc: 0.0806 - val_loss: 0.0717 - val_acc: 0.0789\n",
      "Epoch 5/8\n",
      "32000/32000 [==============================] - 109s - loss: 0.0708 - acc: 0.0798 - val_loss: 0.0716 - val_acc: 0.0834\n",
      "Epoch 6/8\n",
      "32000/32000 [==============================] - 107s - loss: 0.0706 - acc: 0.0815 - val_loss: 0.0714 - val_acc: 0.0798\n",
      "Epoch 7/8\n",
      "32000/32000 [==============================] - 107s - loss: 0.0705 - acc: 0.0792 - val_loss: 0.0714 - val_acc: 0.0796\n",
      "Epoch 8/8\n",
      "32000/32000 [==============================] - 109s - loss: 0.0703 - acc: 0.0781 - val_loss: 0.0713 - val_acc: 0.0777\n"
     ]
    },
    {
     "data": {
      "text/plain": [
       "<keras.callbacks.History at 0x1da467e2a58>"
      ]
     },
     "execution_count": 8,
     "metadata": {},
     "output_type": "execute_result"
    }
   ],
   "source": [
    "autoencoder = Model(input_data, decoded)\n",
    "encoder = Model(input_data, encoded)\n",
    "autoencoder.compile(optimizer='adam', loss='mean_squared_error', metrics=['accuracy'])\n",
    "\n",
    "autoencoder.fit(auto_x, auto_x,\n",
    "                batch_size=batch_size, epochs=epochs, validation_split = 0.2)"
   ]
  },
  {
   "cell_type": "code",
   "execution_count": 31,
   "metadata": {
    "collapsed": true
   },
   "outputs": [],
   "source": [
    "autoencoder.save('data/autoenc.h5')"
   ]
  },
  {
   "cell_type": "code",
   "execution_count": 4,
   "metadata": {},
   "outputs": [],
   "source": [
    "autoencoder = load_model('data/autoenc.h5')"
   ]
  },
  {
   "cell_type": "code",
   "execution_count": 9,
   "metadata": {},
   "outputs": [],
   "source": [
    "# use autoencoder to encode 6050 input vectors to 32-dimension space\n",
    "encoded_x = encoder.predict(auto_x)"
   ]
  },
  {
   "cell_type": "code",
   "execution_count": 10,
   "metadata": {
    "collapsed": true
   },
   "outputs": [],
   "source": [
    "del auto_x"
   ]
  },
  {
   "cell_type": "code",
   "execution_count": 11,
   "metadata": {
    "collapsed": true
   },
   "outputs": [],
   "source": [
    "# use t-SNE embedding for 2D visualization of autoencoded properties\n",
    "from sklearn.manifold import TSNE\n",
    "x_2d = TSNE(n_components=2).fit_transform(encoded_x[:8000])"
   ]
  },
  {
   "cell_type": "code",
   "execution_count": 12,
   "metadata": {
    "collapsed": true
   },
   "outputs": [],
   "source": [
    "file_name = 'data/auto_enc_x_tr4.pkl'\n",
    "file_obj = open(file_name,'wb') \n",
    "pickle.dump(encoded_x, file_obj)   \n",
    "file_obj.close()\n",
    "file_name = 'data/x_2d_tsne_tr4.pkl'\n",
    "file_obj = open(file_name,'wb') \n",
    "pickle.dump(x_2d, file_obj)   \n",
    "file_obj.close()"
   ]
  },
  {
   "cell_type": "code",
   "execution_count": 13,
   "metadata": {
    "collapsed": true
   },
   "outputs": [],
   "source": [
    "import matplotlib.pyplot as plt\n",
    "%matplotlib inline"
   ]
  },
  {
   "cell_type": "code",
   "execution_count": 23,
   "metadata": {},
   "outputs": [],
   "source": [
    "x_2d_h = []\n",
    "x_2d_b = []\n",
    "for i in range(8000):\n",
    "    if x_class[i] == 0:\n",
    "        x_2d_h.append(x_2d[i])\n",
    "    else:\n",
    "        x_2d_b.append(x_2d[i])\n",
    "x_2d_h = np.asarray(x_2d_h)\n",
    "x_2d_b = np.asarray(x_2d_b)"
   ]
  },
  {
   "cell_type": "code",
   "execution_count": 30,
   "metadata": {},
   "outputs": [
    {
     "data": {
      "image/png": "[encoded data removed]",
      "text/plain": [
       "<matplotlib.figure.Figure at 0x1da58702ef0>"
      ]
     },
     "metadata": {},
     "output_type": "display_data"
    }
   ],
   "source": [
    "fig = plt.figure(figsize = [12,9])\n",
    "ax = fig.add_subplot(1,1,1)\n",
    "ax.scatter(x_2d_h[:, 0], x_2d_h[:, 1], color='blue', s=2.5, label='human')\n",
    "ax.scatter(x_2d_b[:, 0], x_2d_b[:, 1], color='red', s=2.5, label='bot')\n",
    "#ax.title('t-SNE 2D visualization of autoencoder embedding')\n",
    "ax.legend(loc='upper right', fontsize=12)\n",
    "plt.show()"
   ]
  },
  {
   "cell_type": "markdown",
   "metadata": {},
   "source": [
    "### 2D projection of autoencoded data shows reasonable discrimination between human and chatbot responses via unsupervised learning.  Discrimination in 32D space may also me more refined.  Encoded/reduced dimensionality representation may be a useful basis for classification."
   ]
  },
  {
   "cell_type": "code",
   "execution_count": 31,
   "metadata": {
    "collapsed": true
   },
   "outputs": [],
   "source": [
    "# load test data and reformat for use by autoencoder\n",
    "file_name = 'data/x_r_full_ts_tur4_shuf.pkl'\n",
    "file_obj = open(file_name,'rb') \n",
    "x_vec = pickle.load(file_obj)   \n",
    "file_obj.close()\n",
    "file_name = 'data/y_in_ts_tur4_shuf.pkl'\n",
    "file_obj = open(file_name,'rb') \n",
    "y_in_vec = pickle.load(file_obj)   \n",
    "file_obj.close()\n",
    "file_name = 'data/y_tar_ts_tur4_shuf.pkl'\n",
    "file_obj = open(file_name,'rb') \n",
    "y_tar_vec = pickle.load(file_obj)   \n",
    "file_obj.close()"
   ]
  },
  {
   "cell_type": "code",
   "execution_count": 32,
   "metadata": {
    "collapsed": true
   },
   "outputs": [],
   "source": [
    "auto_x_ts = []\n",
    "for i in range(len(x_vec)):\n",
    "    row1 = x_vec[i].reshape(3000,).tolist()\n",
    "    row2 = y_in_vec[i].reshape(3050,).tolist()\n",
    "    row = row1 + row2\n",
    "    auto_x_ts.append(row)\n",
    "auto_x_ts = np.asarray(auto_x_ts)"
   ]
  },
  {
   "cell_type": "code",
   "execution_count": 33,
   "metadata": {
    "collapsed": true
   },
   "outputs": [],
   "source": [
    "x_class_ts = y_tar_vec[:,0]"
   ]
  },
  {
   "cell_type": "code",
   "execution_count": 34,
   "metadata": {
    "collapsed": true
   },
   "outputs": [],
   "source": [
    "file_name = 'data/auto_x_ts4.pkl'\n",
    "file_obj = open(file_name,'wb') \n",
    "pickle.dump(auto_x_ts, file_obj)   \n",
    "file_obj.close()\n",
    "file_name = 'data/x_class_auto_ts4.pkl'\n",
    "file_obj = open(file_name,'wb') \n",
    "pickle.dump(x_class_ts, file_obj)   \n",
    "file_obj.close()"
   ]
  },
  {
   "cell_type": "code",
   "execution_count": 35,
   "metadata": {
    "collapsed": true
   },
   "outputs": [],
   "source": [
    "encoded_x_ts = encoder.predict(auto_x_ts)"
   ]
  },
  {
   "cell_type": "code",
   "execution_count": 36,
   "metadata": {
    "collapsed": true
   },
   "outputs": [],
   "source": [
    "del auto_x_ts"
   ]
  },
  {
   "cell_type": "code",
   "execution_count": 40,
   "metadata": {
    "collapsed": true
   },
   "outputs": [],
   "source": [
    "file_name = 'data/auto_enc_x_ts4.pkl'\n",
    "file_obj = open(file_name,'wb') \n",
    "pickle.dump(encoded_x_ts, file_obj)   \n",
    "file_obj.close()"
   ]
  },
  {
   "cell_type": "markdown",
   "metadata": {},
   "source": [
    "### Use k-nearest neighbors classifer as an example of classificaiton capabilities against encoded space"
   ]
  },
  {
   "cell_type": "code",
   "execution_count": 39,
   "metadata": {},
   "outputs": [],
   "source": [
    "from sklearn.neighbors import KNeighborsClassifier\n",
    "from sklearn.model_selection import KFold\n",
    "from sklearn.model_selection import cross_val_score\n",
    "from sklearn.model_selection import train_test_split"
   ]
  },
  {
   "cell_type": "code",
   "execution_count": 43,
   "metadata": {},
   "outputs": [
    {
     "name": "stdout",
     "output_type": "stream",
     "text": [
      "[0.93337500000000007, 0.95277500000000015, 0.95107500000000011, 0.96057500000000007, 0.94925000000000015, 0.95712500000000011, 0.94789999999999996, 0.95382500000000014, 0.94569999999999987, 0.95062499999999994, 0.94352499999999995, 0.94767500000000005, 0.942075, 0.94572500000000004, 0.9406000000000001, 0.94347499999999995, 0.93857499999999994, 0.94142499999999996, 0.93712499999999999, 0.93977500000000003, 0.935975, 0.93825000000000003, 0.93417499999999998, 0.93692500000000012, 0.93310000000000015, 0.93564999999999987, 0.93157500000000015, 0.93387500000000012, 0.93025000000000002, 0.93254999999999999]\n"
     ]
    }
   ],
   "source": [
    "# Search for appropriate k value using 10-fold cross-validation\n",
    "k_range = list(range(1, 31))\n",
    "k_scores = []\n",
    "for k in k_range:\n",
    "    knn = KNeighborsClassifier(n_neighbors=k)\n",
    "    scores = cross_val_score(knn, encoded_x, x_class, cv=10, scoring='accuracy')\n",
    "    k_scores.append(scores.mean())\n",
    "print(k_scores)"
   ]
  },
  {
   "cell_type": "code",
   "execution_count": 44,
   "metadata": {},
   "outputs": [
    {
     "data": {
      "text/plain": [
       "<matplotlib.text.Text at 0x1da58653390>"
      ]
     },
     "execution_count": 44,
     "metadata": {},
     "output_type": "execute_result"
    },
    {
     "data": {
      "image/png": "[encoded data removed]",
      "text/plain": [
       "<matplotlib.figure.Figure at 0x1da586d8198>"
      ]
     },
     "metadata": {},
     "output_type": "display_data"
    }
   ],
   "source": [
    "plt.plot(k_range, k_scores)\n",
    "plt.xlabel('Number of K-NN Neighbors')\n",
    "plt.ylabel('Accuracy (10-Fold Cross-Validated)')"
   ]
  },
  {
   "cell_type": "markdown",
   "metadata": {},
   "source": [
    "**4 nearest neighbors yield's 96% cross-validated accuracy on training data**  \n",
    "(sawtooth plot pattern typical of KNN minority inclusion effects odd-to-even)"
   ]
  },
  {
   "cell_type": "code",
   "execution_count": 45,
   "metadata": {
    "collapsed": true
   },
   "outputs": [],
   "source": [
    "# Apply to test data\n",
    "knn = KNeighborsClassifier(n_neighbors=4)\n",
    "knn.fit(encoded_x, x_class)\n",
    "y_pred = knn.predict(encoded_x_ts)"
   ]
  },
  {
   "cell_type": "code",
   "execution_count": 46,
   "metadata": {
    "collapsed": true
   },
   "outputs": [],
   "source": [
    "# evaluate metrics: confusion metrics, recall, precision, F1 score\n",
    "confusion = metrics.confusion_matrix(x_class_ts, y_pred)\n",
    "recall = metrics.recall_score(x_class_ts, y_pred)\n",
    "precision = metrics.precision_score(x_class_ts, y_pred)\n",
    "F1 = metrics.f1_score(x_class_ts, y_pred)"
   ]
  },
  {
   "cell_type": "code",
   "execution_count": 47,
   "metadata": {},
   "outputs": [
    {
     "name": "stdout",
     "output_type": "stream",
     "text": [
      "Confusion Matrix:\n",
      "[[18582  1398]\n",
      " [  130 19890]]\n",
      "\n",
      "Recall:    0.994\n",
      "Precision: 0.934\n",
      "F1 score:  0.963\n"
     ]
    }
   ],
   "source": [
    "print('Confusion Matrix:')\n",
    "print(confusion)\n",
    "print()\n",
    "print('Recall: {:8.3f}'.format(recall))\n",
    "print('Precision: {:5.3f}'.format(precision))\n",
    "print('F1 score: {:6.3f}'.format(F1))"
   ]
  },
  {
   "cell_type": "markdown",
   "metadata": {},
   "source": [
    "### Test scores for classification against encoded data are not as high as for encoder-decoder Turing test model; however, autoencoder training is unsupervised and may be extensible to problems of bot identification where large volumes of validated class data is scarce."
   ]
  }
 ],
 "metadata": {
  "kernelspec": {
   "display_name": "Python 3",
   "language": "python",
   "name": "python3"
  },
  "language_info": {
   "codemirror_mode": {
    "name": "ipython",
    "version": 3
   },
   "file_extension": ".py",
   "mimetype": "text/x-python",
   "name": "python",
   "nbconvert_exporter": "python",
   "pygments_lexer": "ipython3",
   "version": "3.6.1"
  }
 },
 "nbformat": 4,
 "nbformat_minor": 2
}
