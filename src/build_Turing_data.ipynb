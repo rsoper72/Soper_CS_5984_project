{
 "cells": [
  {
   "cell_type": "markdown",
   "metadata": {},
   "source": [
    "## Condition GLoVe word vectors for seq2seq chatbot detector"
   ]
  },
  {
   "cell_type": "code",
   "execution_count": 2,
   "metadata": {
    "collapsed": true
   },
   "outputs": [],
   "source": [
    "import pickle\n",
    "import numpy as np\n",
    "import random\n",
    "import sklearn.model_selection"
   ]
  },
  {
   "cell_type": "code",
   "execution_count": 2,
   "metadata": {
    "collapsed": true
   },
   "outputs": [],
   "source": [
    "# load chatbot prediction data and combine\n",
    "f_name = 'data/y_chat_tar_vec4_0_new.pkl'\n",
    "f_obj = open(f_name, 'rb')\n",
    "y_chat0 = pickle.load(f_obj)\n",
    "f_obj.close()\n",
    "f_name = 'data/y_chat_tar_vec4_1_new.pkl'\n",
    "f_obj = open(f_name, 'rb')\n",
    "y_chat1 = pickle.load(f_obj)\n",
    "f_obj.close()\n",
    "f_name = 'data/y_chat_tar_vec4_2_new.pkl'\n",
    "f_obj = open(f_name, 'rb')\n",
    "y_chat2 = pickle.load(f_obj)\n",
    "f_obj.close()\n",
    "f_name = 'data/y_chat_tar_vec4_3_new.pkl'\n",
    "f_obj = open(f_name, 'rb')\n",
    "y_chat3 = pickle.load(f_obj)\n",
    "f_obj.close()\n",
    "\n",
    "y_chat = [y_chat0[:], y_chat1[:], y_chat3[:], y_chat3[:]]"
   ]
  },
  {
   "cell_type": "code",
   "execution_count": 3,
   "metadata": {},
   "outputs": [
    {
     "data": {
      "text/plain": [
       "(40000, 61, 50)"
      ]
     },
     "execution_count": 3,
     "metadata": {},
     "output_type": "execute_result"
    }
   ],
   "source": [
    "y_chat = np.asarray(y_chat).reshape(40000,61,50)\n",
    "y_chat.shape"
   ]
  },
  {
   "cell_type": "code",
   "execution_count": 4,
   "metadata": {
    "collapsed": true
   },
   "outputs": [],
   "source": [
    "del y_chat0, y_chat1, y_chat2, y_chat3"
   ]
  },
  {
   "cell_type": "code",
   "execution_count": 3,
   "metadata": {},
   "outputs": [],
   "source": [
    "# load equivalent movie dialog / human data\n",
    "f_name = 'data/y_hum_tar_vec4.pkl'\n",
    "f_obj = open(f_name, 'rb')\n",
    "y_act = pickle.load(f_obj)\n",
    "f_obj.close()"
   ]
  },
  {
   "cell_type": "code",
   "execution_count": 6,
   "metadata": {},
   "outputs": [
    {
     "data": {
      "text/plain": [
       "(40000, 61, 50)"
      ]
     },
     "execution_count": 6,
     "metadata": {},
     "output_type": "execute_result"
    }
   ],
   "source": [
    "y_act = np.asarray(y_act)\n",
    "y_act.shape"
   ]
  },
  {
   "cell_type": "code",
   "execution_count": 7,
   "metadata": {
    "collapsed": true
   },
   "outputs": [],
   "source": [
    "#Combine bot and human output data, shuffle, split into training and test (40k each) datasets\n",
    "y_tar = [y_act[:], y_chat[:]]\n",
    "del y_act, y_chat\n",
    "y_tar = np.asarray(y_tar)"
   ]
  },
  {
   "cell_type": "code",
   "execution_count": 8,
   "metadata": {},
   "outputs": [
    {
     "data": {
      "text/plain": [
       "(80000, 61, 50)"
      ]
     },
     "execution_count": 8,
     "metadata": {},
     "output_type": "execute_result"
    }
   ],
   "source": [
    "y_tar = y_tar.reshape(80000,61,50)\n",
    "y_tar.shape"
   ]
  },
  {
   "cell_type": "code",
   "execution_count": 9,
   "metadata": {
    "collapsed": true
   },
   "outputs": [],
   "source": [
    "y_tar_tr, y_tar_ts = sklearn.model_selection.train_test_split(y_tar, test_size = 0.5, random_state = 64)"
   ]
  },
  {
   "cell_type": "code",
   "execution_count": 10,
   "metadata": {},
   "outputs": [
    {
     "data": {
      "text/plain": [
       "(40000, 61, 50)"
      ]
     },
     "execution_count": 10,
     "metadata": {},
     "output_type": "execute_result"
    }
   ],
   "source": [
    "y_tar_tr.shape"
   ]
  },
  {
   "cell_type": "code",
   "execution_count": 11,
   "metadata": {
    "collapsed": true
   },
   "outputs": [],
   "source": [
    "f_name = 'data/y_in_tur4_shuf.pkl'  # training data\n",
    "f_obj = open(f_name,'wb')\n",
    "pickle.dump(y_tar_tr,f_obj)\n",
    "f_obj.close()\n",
    "f_name = 'data/y_in_ts_tur4_shuf.pkl'  # test data\n",
    "f_obj = open(f_name,'wb')\n",
    "pickle.dump(y_tar_ts,f_obj)\n",
    "f_obj.close()\n",
    "del y_tar, y_tar_tr, y_tar_ts"
   ]
  },
  {
   "cell_type": "code",
   "execution_count": 12,
   "metadata": {
    "collapsed": true
   },
   "outputs": [],
   "source": [
    "# Turing seq2seq output 2-bit categorical classification human vs. bot\n",
    "hum_id = [[0,1]] * 40000\n",
    "chat_id = [[1,0]] * 40000\n",
    "y_id = [hum_id[:], chat_id[:]]\n",
    "y_id = np.asarray(y_id).reshape(80000,2)"
   ]
  },
  {
   "cell_type": "code",
   "execution_count": 13,
   "metadata": {
    "collapsed": true
   },
   "outputs": [],
   "source": [
    "y_id_tr, y_id_ts = sklearn.model_selection.train_test_split(y_id, test_size = 0.5, random_state = 64)"
   ]
  },
  {
   "cell_type": "code",
   "execution_count": 14,
   "metadata": {
    "collapsed": true
   },
   "outputs": [],
   "source": [
    "f_name = 'data/y_tar_tur4_shuf.pkl'\n",
    "f_obj = open(f_name,'wb')\n",
    "pickle.dump(y_id_tr,f_obj)\n",
    "f_obj.close()\n",
    "f_name = 'data/y_tar_ts_tur4_shuf.pkl'\n",
    "f_obj = open(f_name,'wb')\n",
    "pickle.dump(y_id_ts,f_obj)\n",
    "f_obj.close()"
   ]
  },
  {
   "cell_type": "code",
   "execution_count": 15,
   "metadata": {
    "collapsed": true
   },
   "outputs": [],
   "source": [
    "f_name = 'data/x_tur_r_vec4.pkl'\n",
    "f_obj = open(f_name, 'rb')\n",
    "x_hlf = pickle.load(f_obj)\n",
    "f_obj.close()"
   ]
  },
  {
   "cell_type": "code",
   "execution_count": 16,
   "metadata": {
    "collapsed": true
   },
   "outputs": [],
   "source": [
    "# initiating dialog input for Turing detector is the same for human and for bot, only response differs\n",
    "x = [x_hlf[:], x_hlf[:]]\n",
    "x = np.asarray(x).reshape(80000,60,50)"
   ]
  },
  {
   "cell_type": "code",
   "execution_count": 17,
   "metadata": {
    "collapsed": true
   },
   "outputs": [],
   "source": [
    "x_tr, x_ts = sklearn.model_selection.train_test_split(x, test_size = 0.5, random_state = 64)"
   ]
  },
  {
   "cell_type": "code",
   "execution_count": 18,
   "metadata": {
    "collapsed": true
   },
   "outputs": [],
   "source": [
    "f_name = 'data/x_r_full_tur4_shuf.pkl'\n",
    "f_obj = open(f_name,'wb')\n",
    "pickle.dump(x_tr,f_obj)\n",
    "f_obj.close()\n",
    "f_name = 'data/x_r_full_ts_tur4_shuf.pkl'\n",
    "f_obj = open(f_name,'wb')\n",
    "pickle.dump(x_ts,f_obj)\n",
    "f_obj.close()"
   ]
  },
  {
   "cell_type": "code",
   "execution_count": 19,
   "metadata": {
    "collapsed": true
   },
   "outputs": [],
   "source": [
    "del x, x_tr, x_ts"
   ]
  }
 ],
 "metadata": {
  "kernelspec": {
   "display_name": "Python 3",
   "language": "python",
   "name": "python3"
  },
  "language_info": {
   "codemirror_mode": {
    "name": "ipython",
    "version": 3
   },
   "file_extension": ".py",
   "mimetype": "text/x-python",
   "name": "python",
   "nbconvert_exporter": "python",
   "pygments_lexer": "ipython3",
   "version": "3.6.1"
  }
 },
 "nbformat": 4,
 "nbformat_minor": 2
}
